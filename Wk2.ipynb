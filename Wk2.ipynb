{
 "cells": [
  {
   "cell_type": "code",
   "execution_count": null,
   "metadata": {
    "collapsed": true
   },
   "outputs": [],
   "source": []
  },
  {
   "cell_type": "markdown",
   "metadata": {},
   "source": [
    "# W200 Python for Data Science  - UC Berkeley MIDS\n",
    "## Week 2 Assignment - Fall Session 2017\n",
    "******"
   ]
  },
  {
   "cell_type": "markdown",
   "metadata": {},
   "source": [
    "## Python Coding"
   ]
  },
  {
   "cell_type": "markdown",
   "metadata": {},
   "source": [
    "Write a script to solve each of the following problems.  Each problem should have its solution as a separate .py file, named as outlined in each problem. Please upload the .py scripts to your GitHub repository in your /SUBMISSIONS/week_2 folder.\n",
    "\n",
    "Assignment due date: Midnight the night before the Week 3 Live Session.\n",
    "\n",
    "NOTE: Even though **your final submission must be individual .py files**, it may be helpful to first solve the problems in this Jupyter Notebook, then translate the files into .py form.\n",
    "\n",
    "TIPS: Make sure that your code is user friendly and emits appropriate units. For example \"your merchandise is worth $10.00 in on the open market.\"  instead of \"your merchandise is worth 10.0\". Menus should be intuitive and easy to use.\n"
   ]
  },
  {
   "cell_type": "markdown",
   "metadata": {},
   "source": [
    "### 1. Tip Calculator\n",
    "\n",
    "Below, you can see the script we wrote to compute the tip for a meal.  Fix it so that it works correctly.  Save your result as the file tip_LastName.py."
   ]
  },
  {
   "cell_type": "code",
   "execution_count": null,
   "metadata": {},
   "outputs": [],
   "source": [
    "price = float(input(\"Enter the price of a meal: $\"))\n",
    "\n",
    "tip = price * 0.16\n",
    "total = price + tip\n",
    "\n",
    "print(\"A 16% tip would be $\",tip, sep='')\n",
    "print(\"The total including tip would be $\",total ,sep='')"
   ]
  },
  {
   "cell_type": "markdown",
   "metadata": {},
   "source": [
    "### 2. Gas Pump Informer\n",
    "\n",
    "Write a script that prompts the user for a number of gallons of gasoline. Reprint that value, along with its conversion to other measurements:\n",
    "\n",
    "- Equivalent number of liters\n",
    "- Number of barrels of oil required to produce it\n",
    "- Price in U.S. dollars\n",
    "\n",
    "Figures to use:\n",
    "\n",
    "- 1 gallon is equivalent to 3.7854 liters.\n",
    "- 1 barrel of oil produces 19.5 gallons of gas.\n",
    "- The average price of gas is approximately $3.65.\n",
    "\n",
    "Save your script as gas_LastName.py"
   ]
  },
  {
   "cell_type": "markdown",
   "metadata": {},
   "source": [
    "### 3. Number Averager\n",
    "\n",
    "Write a script that prompts the user for two numbers, a and b.  Then, prompt the user to enter a type of average (out of the three options below). Output the correct average, based on what the user selected:\n",
    "\n",
    "1. The arithmetic mean $(a + b) / 2 $\n",
    "2. The geometric mean $\\sqrt{ab}$\n",
    "3. The root-mean-square $\\sqrt{\\frac{a^2 + b^2}{n}}$\n",
    "\n",
    "Sae your script as averages_LastName.py"
   ]
  },
  {
   "cell_type": "markdown",
   "metadata": {},
   "source": [
    "### 4. Income Tax\n",
    "\n",
    "The mythical island nation of Laskoatu has a rather simple tax code.  The first \\$1000 of income is taxed at 5%.  The next \\$1000 is taxed at 10%.  Any income beyond the first \\$2000 is taxed at 15%.  Complete the following script so that it asks the user for his or her income and outputs the amount of tax owed. Save your script as tax_LastName.py"
   ]
  },
  {
   "cell_type": "code",
   "execution_count": 37,
   "metadata": {},
   "outputs": [
    {
     "name": "stdout",
     "output_type": "stream",
     "text": [
      "Please enter your income:7\n"
     ]
    }
   ],
   "source": [
    "income = int(input(\"Please enter your income:\"))"
   ]
  },
  {
   "cell_type": "markdown",
   "metadata": {},
   "source": [
    "### 5. Palindrome\n",
    "\n",
    "Write a script that prompts the user for his or her name. Using a while loop that counts downwards (instead of using the 'reverse' function), print the letters of the name reversed (hint: use print(var, end='') in each iteration of the loop). You should use s.lower() and s.upper() as appropriate to change a string s to lowercase and uppercase letters. Make sure your code prints the examples exactly as shown below.\n",
    "\n",
    "Enter your name: Paul <br>\n",
    "Luap\n",
    "\n",
    "If the name is the same forward and backwards, print \"Palindrome!\" on the next line.\n",
    "\n",
    "Enter your name: Ana <br>\n",
    "Ana <br>\n",
    "Palindrome!\n",
    "\n",
    "Save your script as palindrome_LastName.py"
   ]
  },
  {
   "cell_type": "code",
   "execution_count": null,
   "metadata": {
    "collapsed": true
   },
   "outputs": [],
   "source": []
  }
 ],
 "metadata": {
  "anaconda-cloud": {},
  "kernelspec": {
   "display_name": "Python 3",
   "language": "python",
   "name": "python3"
  },
  "language_info": {
   "codemirror_mode": {
    "name": "ipython",
    "version": 3
   },
   "file_extension": ".py",
   "mimetype": "text/x-python",
   "name": "python",
   "nbconvert_exporter": "python",
   "pygments_lexer": "ipython3",
   "version": "3.6.1"
  }
 },
 "nbformat": 4,
 "nbformat_minor": 1
}
